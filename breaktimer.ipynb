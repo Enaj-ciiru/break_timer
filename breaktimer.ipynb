{
  "nbformat": 4,
  "nbformat_minor": 0,
  "metadata": {
    "colab": {
      "provenance": [],
      "authorship_tag": "ABX9TyMod+IAiphHKPNeBzoJV3Gf",
      "include_colab_link": true
    },
    "kernelspec": {
      "name": "python3",
      "display_name": "Python 3"
    },
    "language_info": {
      "name": "python"
    }
  },
  "cells": [
    {
      "cell_type": "markdown",
      "metadata": {
        "id": "view-in-github",
        "colab_type": "text"
      },
      "source": [
        "<a href=\"https://colab.research.google.com/github/Enaj-ciiru/break_timer/blob/main/breaktimer.ipynb\" target=\"_parent\"><img src=\"https://colab.research.google.com/assets/colab-badge.svg\" alt=\"Open In Colab\"/></a>"
      ]
    },
    {
      "cell_type": "code",
      "execution_count": null,
      "metadata": {
        "id": "zyciPOoVjAv7"
      },
      "outputs": [],
      "source": [
        "import time\n",
        "from tqdm import tqdm\n",
        "\n",
        "# Set the total duration for the break (e.g., 15 minutes)\n",
        "break_duration = 900  # seconds\n",
        "\n",
        "# Create a progress bar with 100 iterations (representing the break duration)\n",
        "pbar = tqdm(total=break_duration, desc=\"Break Time\", unit=\"seconds\")\n",
        "\n",
        "# Start the timer and progress bar\n",
        "start_time = time.time()\n",
        "for i in range(break_duration):\n",
        "    pbar.update(1)  # Update the progress bar\n",
        "    time.sleep(1)  # Simulate some activity (e.g., stretching, meditation)\n",
        "\n",
        "# Print a message when the break is complete\n",
        "pbar.close()\n",
        "print(\"Break complete!\")"
      ]
    }
  ]
}